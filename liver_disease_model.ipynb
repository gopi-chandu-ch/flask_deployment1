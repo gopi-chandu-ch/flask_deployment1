{
 "cells": [
  {
   "cell_type": "code",
   "execution_count": 5,
   "id": "f6e5f06e-5284-42b4-a6bb-8a2442ed643f",
   "metadata": {},
   "outputs": [
    {
     "name": "stdout",
     "output_type": "stream",
     "text": [
      "Model saved as liver_disease_model.pkl\n"
     ]
    }
   ],
   "source": [
    "import pandas as pd\n",
    "from sklearn.ensemble import RandomForestClassifier\n",
    "from sklearn.model_selection import train_test_split\n",
    "from sklearn.preprocessing import LabelEncoder\n",
    "import joblib\n",
    "\n",
    "# Load the dataset\n",
    "liver_data = pd.read_csv(\"Liver_Disease_data.csv\")\n",
    "\n",
    "# Remove missing values in target column\n",
    "liver_data = liver_data.dropna(subset=['category'])\n",
    "\n",
    "# Encode the target variable (Convert 'no_disease', 'hepatitis' to numbers)\n",
    "label_encoder = LabelEncoder()\n",
    "liver_data['category'] = label_encoder.fit_transform(liver_data['category'])\n",
    "\n",
    "# Separate features (X) and target (y)\n",
    "X = liver_data.drop(columns=['category'])\n",
    "y = liver_data['category']\n",
    "\n",
    "# Convert categorical 'sex' column into numerical values\n",
    "X['sex'] = X['sex'].map({'m': 0, 'f': 1})  # Encode 'm' as 0 and 'f' as 1\n",
    "\n",
    "# Fill any remaining missing values with column means\n",
    "X.fillna(X.mean(), inplace=True)\n",
    "\n",
    "# Split the data\n",
    "X_train, X_test, y_train, y_test = train_test_split(X, y, test_size=0.2, random_state=42)\n",
    "\n",
    "# Train the model\n",
    "model = RandomForestClassifier(n_estimators=100, random_state=42)\n",
    "model.fit(X_train, y_train)\n",
    "\n",
    "# Save the model\n",
    "joblib.dump(model, \"liver_disease_model.pkl\")\n",
    "print(\"Model saved as liver_disease_model.pkl\")\n"
   ]
  },
  {
   "cell_type": "code",
   "execution_count": 3,
   "id": "66803dcb-2124-4893-9aee-d70a184d8f3c",
   "metadata": {},
   "outputs": [
    {
     "name": "stdout",
     "output_type": "stream",
     "text": [
      "C:\\Users\\fUJITSU\\Desktop\\AD_Traing\\flask\n"
     ]
    }
   ],
   "source": [
    "import os\n",
    "print(os.getcwd())  # This prints the current working directory"
   ]
  },
  {
   "cell_type": "code",
   "execution_count": null,
   "id": "dbf3cba3-fa33-4ef5-9bbc-bf28f0beb3bb",
   "metadata": {},
   "outputs": [],
   "source": []
  }
 ],
 "metadata": {
  "kernelspec": {
   "display_name": "Python 3 (ipykernel)",
   "language": "python",
   "name": "python3"
  },
  "language_info": {
   "codemirror_mode": {
    "name": "ipython",
    "version": 3
   },
   "file_extension": ".py",
   "mimetype": "text/x-python",
   "name": "python",
   "nbconvert_exporter": "python",
   "pygments_lexer": "ipython3",
   "version": "3.12.4"
  }
 },
 "nbformat": 4,
 "nbformat_minor": 5
}
